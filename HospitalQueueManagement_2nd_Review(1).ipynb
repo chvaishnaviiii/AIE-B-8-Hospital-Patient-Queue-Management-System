{
 "cells": [
  {
   "cell_type": "markdown",
   "id": "c6bb3b5e-6322-4cf9-b1a2-4d2c95e21015",
   "metadata": {},
   "source": [
    "## <center> Data Structures and Algorithms & Object Oriented Programming in JAVA </center>\n",
    "## <center> SECOND REVIEW </center>\n",
    "## <center> Title:  Hospital Patient Queue Management System <center>"
   ]
  },
  {
   "cell_type": "code",
   "execution_count": 18,
   "id": "1f2e9e86-44e6-474a-ad76-97c40fd90ef4",
   "metadata": {},
   "outputs": [
    {
     "name": "stdout",
     "output_type": "stream",
     "text": [
      "Choose an option:\n",
      "1. Insert Patient\n",
      "2. Serve Patient\n",
      "3. Display Queue\n",
      "4. Exit\n"
     ]
    },
    {
     "name": "stdin",
     "output_type": "stream",
     "text": [
      "Enter your choice:  4\n"
     ]
    },
    {
     "name": "stdout",
     "output_type": "stream",
     "text": [
      "Exiting program.\n"
     ]
    }
   ],
   "source": [
    "class Patient:\n",
    "    def __init__(self,name,id,age,gender,condition,severity):\n",
    "        self.details = {\n",
    "            \"name\":name,\n",
    "            \"id\": id,\n",
    "            \"age\":age,\n",
    "            \"gender\":gender,\n",
    "            \"condition\": condition,\n",
    "            \"severity\": severity\n",
    "        }\n",
    "\n",
    "    def __str__(self):\n",
    "        return (f\"Name: {self.details['name']},ID:{self.details['id']}, Age: {self.details['age']}, \"\n",
    "                f\"Gender: {self.details['gender']}, Condition: {self.details['condition']}, \"\n",
    "                f\"Severity: {self.details['severity']}\")\n",
    "\n",
    "class Node:\n",
    "    def __init__(self, patient):\n",
    "        self.patient=patient\n",
    "        self.next = None\n",
    "\n",
    "class LinkedList:\n",
    "    def __init__(self):\n",
    "        self.head = None  \n",
    "\n",
    "    def insert(self,name,id,age,gender,condition, severity):\n",
    "        new_patient=Patient(name, id,age, gender, condition, severity)\n",
    "        new_node = Node(new_patient)\n",
    "        if self.head is None or self.head.patient.details[\"severity\"] > severity:\n",
    "            new_node.next = self.head\n",
    "            self.head = new_node\n",
    "        else:\n",
    "            temp = self.head\n",
    "            while temp.next and temp.next.patient.details[\"severity\"] <= severity:\n",
    "                temp = temp.next\n",
    "            new_node.next = temp.next\n",
    "            temp.next = new_node\n",
    "\n",
    "    def delete(self):\n",
    "        if self.head is None:\n",
    "            print(\"Queue is empty\")\n",
    "            return None\n",
    "        self.head = self.head.next\n",
    "\n",
    "    def display(self):\n",
    "        if self.head is None:\n",
    "            print(\"Queue is empty\")\n",
    "            return None\n",
    "        temp = self.head\n",
    "        while temp:\n",
    "            print(temp.patient, end=\"-->\")\n",
    "            temp = temp.next\n",
    "        print(\"None\")\n",
    "\n",
    "class PriorityQueue:\n",
    "    def __init__(self):\n",
    "        self.queue = LinkedList()\n",
    "\n",
    "    def enqueue(self):\n",
    "        name = input(\"Enter Patient Name: \")\n",
    "        id = int(input(\"Enter Patient ID: \"))\n",
    "        age = int(input(\"Enter Patient Age: \"))\n",
    "        gender = input(\"Enter Patient Gender: \")\n",
    "        condition = input(\"Enter Patient Condition: \")\n",
    "        severity = int(input(\"Enter Severity Level (1 for high severity and 3 for low severity): \"))\n",
    "        self.queue.insert(name, id, age, gender, condition, severity)\n",
    "\n",
    "    def dequeue(self):\n",
    "        self.queue.delete()\n",
    "\n",
    "    def display(self):\n",
    "        self.queue.display()\n",
    "\n",
    "def main():\n",
    "    pq = PriorityQueue()\n",
    "    while True:\n",
    "        print(\"Choose an option:\")\n",
    "        print(\"1. Insert Patient\")\n",
    "        print(\"2. Serve Patient\")\n",
    "        print(\"3. Display Queue\")\n",
    "        print(\"4. Exit\")\n",
    "        choice = input(\"Enter your choice: \")\n",
    "        if choice == '1':\n",
    "            pq.enqueue()\n",
    "        elif choice == '2':\n",
    "            pq.dequeue()\n",
    "        elif choice == '3':\n",
    "            pq.display()\n",
    "        elif choice == '4':\n",
    "            print(\"Exiting program.\")\n",
    "            break\n",
    "        else:\n",
    "            print(\"Invalid choice. Please enter a number between 1 and 4.\")\n",
    "\n",
    "main()\n",
    "\n"
   ]
  },
  {
   "cell_type": "markdown",
   "id": "4a848508-149c-4145-81fa-432af6249d78",
   "metadata": {},
   "source": [
    "### TEAM MEMBERS: \n",
    "- CB.SC.U4AIE24108  -  CH.VAISHNAVI KRISHNA\n",
    "- CB.SC.U4AIE24147  -  NETHRA.R\n",
    "- CB.SC.U4AIE24149  -  SAHAANA SHRI.SK\n",
    "- CB.SC.U4AIE24169  -  MOUNIKA.CH"
   ]
  },
  {
   "cell_type": "code",
   "execution_count": null,
   "id": "2a16292d-1f10-4b92-b3ea-b07bd36286d5",
   "metadata": {},
   "outputs": [],
   "source": []
  }
 ],
 "metadata": {
  "kernelspec": {
   "display_name": "Python 3 (ipykernel)",
   "language": "python",
   "name": "python3"
  },
  "language_info": {
   "codemirror_mode": {
    "name": "ipython",
    "version": 3
   },
   "file_extension": ".py",
   "mimetype": "text/x-python",
   "name": "python",
   "nbconvert_exporter": "python",
   "pygments_lexer": "ipython3",
   "version": "3.12.7"
  }
 },
 "nbformat": 4,
 "nbformat_minor": 5
}
