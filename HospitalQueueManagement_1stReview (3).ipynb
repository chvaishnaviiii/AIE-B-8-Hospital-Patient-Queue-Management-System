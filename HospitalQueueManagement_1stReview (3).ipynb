{
 "cells": [
  {
   "cell_type": "markdown",
   "id": "c6bb3b5e-6322-4cf9-b1a2-4d2c95e21015",
   "metadata": {},
   "source": [
    "## <center> Data Structures and Algorithms & Object Oriented Programming in JAVA </center>\n",
    "## <center> FIRST REVIEW </center>\n",
    "## <center> Title:  Hospital Patient Queue Management System <center>"
   ]
  },
  {
   "cell_type": "markdown",
   "id": "d3ac79b5-d7b6-4cd0-9efd-85ff555bd308",
   "metadata": {},
   "source": [
    "# Introduction:\n",
    "The Hospital Patient Queue Management System is designed to efficiently manage the arrival and treatment of patients based on their severity. This system uses a priority queue to ensure that critical patients are given treatment before those with less severe conditions. The system organizes patients in a way that minimizes waiting time and improves hospital resource management.\n",
    "\n",
    "# Why only Priority queue?\n",
    "A priority queue is a data structure that allows for efficient insertion and removal of elements based on their priority. In the context of a hospital, the priority represents the severity of the patient's condition. By using a priority queue, we can ensure that patients with higher severity are always treated first.\n",
    "\n",
    "In a hospital patient queue management system, priority queues are used because:\n",
    "- Patients with critical conditions should be treated first, regardless of when they arrived.\n",
    "- It allows dynamic prioritization, meaning if a patient's condition worsens, their priority can be adjusted.\n",
    "\n",
    "<b>Why Not Use Other Data Structures?</b>\n",
    "- Normal Queue (FIFO): Patients would be treated in the order they arrive, which isn’t suitable for emergencies.\n",
    "- Stack (LIFO - Last In, First Out): Would prioritize the most recent patient, which is not logical in a hospital scenario.\n",
    "- Linked List/Array: Searching and reordering based on priority would be inefficient.\n"
   ]
  },
  {
   "cell_type": "markdown",
   "id": "fd129baa-c501-4a77-aa4a-33a476fe6025",
   "metadata": {},
   "source": [
    "# Implementation of Priority queue using Min-Heap:\n",
    "```python\n",
    "class priorityQueue:\n",
    "    def _init_(self):\n",
    "        self.queue = []\n",
    "\n",
    "    def peek(self):\n",
    "        return self.queue[0][1] if self.queue else None\n",
    "\n",
    "    def display(self):\n",
    "        print([item[1] for item in self.queue])\n",
    "\n",
    "    def insert(self, item, priority):\n",
    "        self.queue.append((priority, item))\n",
    "        self.moveUp(len(self.queue) - 1)\n",
    "\n",
    "    def moveUp(self, index):\n",
    "        while index > 0:\n",
    "            parent = (index - 1) // 2\n",
    "            if self.queue[index][0] < self.queue[parent][0]:\n",
    "                self.queue[index], self.queue[parent] = self.queue[parent], self.queue[index]\n",
    "                index = parent\n",
    "            else:\n",
    "                break\n",
    "\n",
    "    def remove(self):\n",
    "        if not self.queue:\n",
    "            return None\n",
    "        self.queue[0], self.queue[-1] = self.queue[-1], self.queue[0]\n",
    "        item = self.queue.pop()\n",
    "        self.moveDown(0)\n",
    "        return item[1]\n",
    "\n",
    "    def moveDown(self, index):\n",
    "        size = len(self.queue)\n",
    "        while True:\n",
    "            left = 2 * index + 1\n",
    "            right = 2 * index + 2\n",
    "            smallest = index\n",
    "            if left < size and self.queue[left][0] < self.queue[smallest][0]:\n",
    "                smallest = left\n",
    "            if right < size and self.queue[right][0] < self.queue[smallest][0]:\n",
    "                smallest = right\n",
    "            if smallest != index:\n",
    "                self.queue[index], self.queue[smallest] = self.queue[smallest], self.queue[index]\n",
    "                index = smallest\n",
    "            else:\n",
    "                break"
   ]
  },
  {
   "cell_type": "markdown",
   "id": "31ed2375-f7dd-4206-b9c6-576d194eff1f",
   "metadata": {},
   "source": [
    "# OOPs concepts used in this project\n",
    "#### Encapsulation \n",
    "Encapsulation ensures that patient data and hospital operations are grouped together into classes, preventing direct access from outside.\n",
    "- Patient details (ID, Name, Severity, etc.) are encapsulated in the _Patient_ class.\n",
    "- Queue management operations (adding, sorting, treating patients) are encapsulated in the _HospitalQueueManagement_ class.\n",
    "\n",
    "####  Abstraction \n",
    "Abstraction is used to hide the internal workings of queue management from users, allowing them to interact with the system using simple methods like _add_patient()_, _treat_patient()_, etc.\n",
    "- Users don’t need to know how the priority queue works (Min-Heap sorting happens internally).\n",
    "- Methods like _start()_, _update_waiting_times()_ hide internal logic but ensure functionality.\n"
   ]
  },
  {
   "cell_type": "markdown",
   "id": "2bd851dc-70d6-44ba-bf67-2c0e8fbbdb50",
   "metadata": {},
   "source": [
    "# Class Structure\n",
    "\n",
    "## <u>Patient Class</u> \n",
    "This class represents a patient in the emergency room. It stores basic details, severity level, and waiting time to determine priority in the queue.\n",
    "\n",
    "#### Attributes:\n",
    "- *id* → Unique identifier for each patient\n",
    "- *name* → Full name of the patient\n",
    "- *age* → Patient's age\n",
    "- *gender* → Gender of the patient\n",
    "- *severity* → Level of medical urgency (1 = Low, 2 = Moderate, 3 = High, 4 = Critical)\n",
    "- *condition* → Description of the patient's medical issue\n",
    "- *arrivalTime* → Timestamp of when the patient was registered\n",
    "- *waitingTime* → Time elapsed since patient arrival\n",
    "- *status* → Current state of the patient (Waiting, Being Treated, Treated)\n",
    "\n",
    "#### Methods:\n",
    "- *updateWaitingTime(currentTime)* → Calculates the waiting time by subtracting arrival time from the current hospital time.\n",
    "\n",
    "## <u>HospitalQueueManagement Class</u>\n",
    "This class handles the _emergency room queue_, ensuring that patients with critical conditions are treated first while maintaining an organized priority-based patient flow.\n",
    "\n",
    "#### Attributes:\n",
    "- *patientQueue* → List that stores all waiting patients\n",
    "- *treatedPatients* → List of patients who have been treated\n",
    "- *doctorAvailablility* → Boolean flag indicating whether the doctor is free or busy\n",
    "- *currentTime* → Simulated hospital time to track waiting periods\n",
    "\n",
    "#### Methods:\n",
    "- *loadData()* → Preloads sample patients to simulate real-time scenarios.\n",
    "- *addPatient()* → Accepts new patient details and adds them to the priority queue.\n",
    "- *updateWaitingTime()* → Updates the waiting time for each patient in the queue.\n",
    "- *dispQueue()* → Displays all waiting patients in order of priority.\n",
    "- *dispTreatedPatients()* → Shows a list of patients who have already received treatment.\n",
    "- *checkDoctorAvailability()* → Checks whether the doctor is currently treating a patient.\n",
    "- *treatPatient()* → Assigns the highest-priority patient to the doctor for treatment.\n",
    "- *dailyReport()* → Summarizes the hospital’s daily patient activity.\n",
    "- *start()* "
   ]
  },
  {
   "cell_type": "markdown",
   "id": "eabc825e-92b5-41fb-bfbb-f3c069941e9a",
   "metadata": {},
   "source": [
    "# Objectives\n",
    "##### Sorting Patients Based on Severity of Medical Condition:\n",
    "Patients with higher severity are treated first. If two patients have the same severity, the one who arrived earlier is treated first.\n",
    "\n",
    "##### Queue Management Process:\n",
    " New patients are added based on severity and arrival time.\n",
    " Waiting times are updated every time a patient is not treated.\n",
    " Doctor treats the next priority patient from the Min-Heap.\n",
    " Treated patients are recorded, and queue is updated.\n",
    "\n",
    "##### Real life applications:\n",
    " Reduces emergency room congestion\n",
    " Minimizes waiting times for critically ill patients\n",
    " Automates hospital queue handling for better efficiency\n",
    "\n",
    " <hr> "
   ]
  },
  {
   "cell_type": "markdown",
   "id": "4a848508-149c-4145-81fa-432af6249d78",
   "metadata": {},
   "source": [
    "### TEAM MEMBERS: \n",
    "- CB.SC.U4AIE24108  -  CH.VAISHNAVI KRISHNA\n",
    "- CB.SC.U4AIE24147  -  NETHRA.R\n",
    "- CB.SC.U4AIE24149  -  SAHAANA SHRI.SK\n",
    "- CB.SC.U4AIE24169  -  MOUNIKA.CH"
   ]
  },
  {
   "cell_type": "markdown",
   "id": "024316d1-46a2-41ee-b31e-0f38a8f1037c",
   "metadata": {},
   "source": []
  }
 ],
 "metadata": {
  "kernelspec": {
   "display_name": "Python 3 (ipykernel)",
   "language": "python",
   "name": "python3"
  },
  "language_info": {
   "codemirror_mode": {
    "name": "ipython",
    "version": 3
   },
   "file_extension": ".py",
   "mimetype": "text/x-python",
   "name": "python",
   "nbconvert_exporter": "python",
   "pygments_lexer": "ipython3",
   "version": "3.12.7"
  }
 },
 "nbformat": 4,
 "nbformat_minor": 5
}
