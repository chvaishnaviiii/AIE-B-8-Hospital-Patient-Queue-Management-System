{
 "cells": [
  {
   "cell_type": "markdown",
   "id": "9f6ee7bd-5d1c-43f4-9a9d-193cb73ac021",
   "metadata": {},
   "source": [
    "## TIME COMPLEXITY OF HOSPITAL PATEINT QUEUE MANAGEMENT SYSTEM"
   ]
  },
  {
   "cell_type": "markdown",
   "id": "89093148-da25-419a-8b3f-45412129476f",
   "metadata": {},
   "source": [
    "| Function                        | Time Complexity                        | Description                                                                 |\n",
    "|----------------------------------|----------------------------------------|-----------------------------------------------------------------------------|\n",
    "| Patient.__init__                 | O(1)                                   | Initializes a patient with the given details.                               |\n",
    "| Patient.__str__                  | O(1)                                   | Returns a string representation of a patient.                              |\n",
    "| Doctor.__init__                  | O(1)                                   | Initializes a doctor with the given details.                               |\n",
    "| Doctor.__str__                   | O(1)                                   | Returns a string representation of a doctor.                               |\n",
    "| Node.__init__                    | O(1)                                   | Initializes a node with a patient.                                          |\n",
    "| LinkedList.__init__              | O(1)                                   | Initializes an empty linked list.                                          |\n",
    "| LinkedList.insert                | O(n) (worst-case), O(1) (best-case)    | Inserts a new patient in the list, keeping the list ordered by severity.    |\n",
    "| LinkedList.delete                | O(1)                                   | Deletes the first patient (head) from the list.                            |\n",
    "| LinkedList.display               | O(n)                                   | Displays all patients in the linked list.                                   |\n",
    "| PriorityQueue.__init__           | O(1)                                   | Initializes an empty priority queue.                                        |\n",
    "| PriorityQueue.enqueue            | O(n)                                   | Enqueues a patient by inserting into the linked list.                       |\n",
    "| PriorityQueue.dequeue            | O(1)                                   | Dequeues a patient (deletes the head of the list).                         |\n",
    "| PriorityQueue.display            | O(n)                                   | Displays all patients in the priority queue.                                |\n",
    "| Hospital.__init__                | O(1)                                   | Initializes the hospital with a priority queue and a list of doctors.       |\n",
    "| Hospital.assign_doctor           | O(1)                                   | Assigns a doctor based on the patient's condition.                         |\n"
   ]
  }
 ],
 "metadata": {
  "kernelspec": {
   "display_name": "Python 3 (ipykernel)",
   "language": "python",
   "name": "python3"
  },
  "language_info": {
   "codemirror_mode": {
    "name": "ipython",
    "version": 3
   },
   "file_extension": ".py",
   "mimetype": "text/x-python",
   "name": "python",
   "nbconvert_exporter": "python",
   "pygments_lexer": "ipython3",
   "version": "3.12.7"
  }
 },
 "nbformat": 4,
 "nbformat_minor": 5
}
